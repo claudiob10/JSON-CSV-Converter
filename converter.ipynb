{
 "cells": [
  {
   "cell_type": "markdown",
   "metadata": {
    "Collapsed": "false"
   },
   "source": [
    "# Converter CSV-JSON"
   ]
  },
  {
   "cell_type": "markdown",
   "metadata": {
    "Collapsed": "false"
   },
   "source": [
    "## Import Libraries"
   ]
  },
  {
   "cell_type": "code",
   "execution_count": 1,
   "metadata": {
    "Collapsed": "false"
   },
   "outputs": [],
   "source": [
    "import os\n",
    "import csv\n",
    "import json\n",
    "from collections import OrderedDict"
   ]
  },
  {
   "cell_type": "markdown",
   "metadata": {
    "Collapsed": "false"
   },
   "source": [
    "## SELECT AND OPEN A CSV OR JSON FILE\n"
   ]
  },
  {
   "cell_type": "code",
   "execution_count": 4,
   "metadata": {
    "Collapsed": "false"
   },
   "outputs": [
    {
     "name": "stdout",
     "output_type": "stream",
     "text": [
      "Which file do you want to convert?\n",
      "CSV file loaded\n",
      "File created: MOCK_DATA (1).json\n"
     ]
    }
   ],
   "source": [
    "# SELECT AND OPEN A CSV OR JSON FILE\n",
    "try:\n",
    "    filename = \"MOCK_DATA.csv\"\n",
    "    extension = filename.split(\".\")[-1].lower()\n",
    "    \n",
    "    f = open(filename)\n",
    "\n",
    "    if extension == \"csv\":\n",
    "        # load csv file\n",
    "        data = list(csv.reader(f))\n",
    "        print(\"CSV file loaded\")\n",
    "    elif extension == \"json\":\n",
    "        # load json file\n",
    "        data = json.load(f,object_pairs_hook=OrderedDict)\n",
    "        print(\"JSON file loaded\")\n",
    "    else:\n",
    "        print(\"unsupported file type ... exiting\")\n",
    "        exit()\n",
    "except Exception as e:\n",
    "    # error loading file\n",
    "    print(\"Error loading file ... exiting:\",e)\n",
    "    exit()\n",
    "else:\n",
    "    # CONVERT CSV TO JSON\n",
    "    if extension == \"csv\":\n",
    "        keys = data[0]\n",
    "        converted = []\n",
    "\n",
    "        for i in range(1, len(data)):\n",
    "            obj = OrderedDict()\n",
    "            for j in range(0,len(keys)):\n",
    "                if len(data[i][j]) > 0:\n",
    "                    obj[keys[j]] = data[i][j]\n",
    "                else:\n",
    "                    obj[keys[j]] = None\n",
    "            converted.append(obj)\n",
    "        \n",
    "    # CONVERT JSON TO CSV\n",
    "    if extension == \"json\":\n",
    "\n",
    "        # get all keys in json objects\n",
    "        keys = []\n",
    "        for i in range(0,len(data)):\n",
    "            for j in data[i]:\n",
    "                if j not in keys:\n",
    "                    keys.append(j)\n",
    "        \n",
    "        # map data in each row to key index\n",
    "        converted = []\n",
    "        converted.append(keys)\n",
    "\n",
    "        for i in range(0,len(data)):\n",
    "            row = []\n",
    "            for j in range(0,len(keys)):\n",
    "                if keys[j] in data[i]:\n",
    "                    row.append(data[i][keys[j]])\n",
    "                else:\n",
    "                    row.append(None)\n",
    "            converted.append(row)\n",
    "\n",
    "    # CREATE OUTPUT FILE\n",
    "    converted_file_basename = os.path.basename(filename).split(\".\")[0]\n",
    "    converted_file_extension = \".json\" if extension == \"csv\" else \".csv\"\n",
    "\n",
    "    if(os.path.isfile(converted_file_basename + converted_file_extension)):\n",
    "        counter = 1\n",
    "        while os.path.isfile(converted_file_basename + \" (\" + str(counter) + \")\" + converted_file_extension):\n",
    "            counter += 1\n",
    "        converted_file_basename = converted_file_basename + \" (\" + str(counter) + \")\"\n",
    "    \n",
    "    try:\n",
    "        if converted_file_extension == \".json\":\n",
    "            with open(converted_file_basename + converted_file_extension, 'w') as outfile:\n",
    "                json.dump(converted, outfile)\n",
    "        elif converted_file_extension == \".csv\":\n",
    "            with open(converted_file_basename + converted_file_extension, 'w') as outfile:\n",
    "                writer = csv.writer(outfile)\n",
    "                writer.writerows(converted)\n",
    "    except:\n",
    "        print(\"Error creating file ... exiting\")\n",
    "    else:\n",
    "        print(\"File created:\",converted_file_basename + converted_file_extension)\n"
   ]
  }
 ],
 "metadata": {
  "kernelspec": {
   "display_name": "Python 3",
   "language": "python",
   "name": "python3"
  },
  "language_info": {
   "codemirror_mode": {
    "name": "ipython",
    "version": 3
   },
   "file_extension": ".py",
   "mimetype": "text/x-python",
   "name": "python",
   "nbconvert_exporter": "python",
   "pygments_lexer": "ipython3",
   "version": "3.7.1"
  }
 },
 "nbformat": 4,
 "nbformat_minor": 4
}
